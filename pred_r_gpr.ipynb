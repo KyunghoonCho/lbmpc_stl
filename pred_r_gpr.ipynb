{
 "cells": [
  {
   "cell_type": "markdown",
   "metadata": {},
   "source": [
    "## Robustness Prediction with Gaussian Process Regression (GPR)\n",
    "- INPUT: feature\n",
    "- TARGET: robustness with STL\n",
    "- STL rules:\n",
    "1: Lane-observation (down, right)\n",
    "2: Lane-observation (up, left)\n",
    "3: Collision (front)\n",
    "4: Collision (others)\n",
    "5: Speed-limit\n",
    "6: Slow-down"
   ]
  },
  {
   "cell_type": "code",
   "execution_count": 1,
   "metadata": {},
   "outputs": [],
   "source": [
    "from __future__ import print_function, division, absolute_import\n",
    "\n",
    "import math\n",
    "import os\n",
    "import pickle\n",
    "\n",
    "from sklearn.gaussian_process import GaussianProcessRegressor\n",
    "from sklearn.gaussian_process.kernels import DotProduct, RBF, WhiteKernel, ConstantKernel\n",
    "\n",
    "from core.SimScreenMatplotlib import SimScreenMatplotlib\n",
    "from core.SimTrack import *\n",
    "from core.TrainData import *\n",
    "from src.utils_sim import *\n",
    "from src.get_rgb import get_rgb\n",
    "\n",
    "import matplotlib"
   ]
  },
  {
   "cell_type": "markdown",
   "metadata": {},
   "source": [
    "### Step 1: Set Data"
   ]
  },
  {
   "cell_type": "code",
   "execution_count": 2,
   "metadata": {},
   "outputs": [
    {
     "name": "stdout",
     "output_type": "stream",
     "text": [
      "data_size (before): 37837\n",
      "data_size (after): 37837\n",
      "[MODEL] gpr_us101_f1r5_pcax_3_5000\n",
      "[SET DATA] train-size: 5000, test-size: 3000\n"
     ]
    }
   ],
   "source": [
    "txt_pca = \"_pcax\"  # \"_pcax\", \"_pcay\", \"\"\n",
    "alpha = 0.3\n",
    "data_name = \"us101\"\n",
    "\n",
    "if txt_pca == \"_pcax\" or txt_pca == \"_pcay\":\n",
    "    use_pcadata = True\n",
    "else:\n",
    "    use_pcadata = False\n",
    "use_pcadata_int = (use_pcadata == True)\n",
    "\n",
    "directory2load = \"./data_train/pca\" if use_pcadata else \"./data_train\"\n",
    "\n",
    "directory2save = \"./trained_model/{:s}\".format(\"gpr\")\n",
    "if not os.path.exists(directory2save):\n",
    "    os.makedirs(directory2save)\n",
    "\n",
    "filename2read = []\n",
    "sample_ratio_data = []\n",
    "\n",
    "if data_name == \"us101\":\n",
    "    for nidx_d in range(1, 3):\n",
    "        if use_pcadata:\n",
    "            vehicle_data_filename_tmp = \"{:s}/train_single{:s}_{:d}_us101_{:d}.npy\".\\\n",
    "                format(directory2load, txt_pca, int(alpha * 10), nidx_d)\n",
    "        else:\n",
    "            vehicle_data_filename_tmp = \"{:s}/train_single_highd_{:d}.npy\".\\\n",
    "                format(directory2load, nidx_d)\n",
    "\n",
    "        filename2read.append(vehicle_data_filename_tmp)\n",
    "        sample_ratio_data += [1.0]\n",
    "elif data_name == \"highd\":\n",
    "    trackid_exclude = np.arange(5, 61, 5, dtype=np.int32)\n",
    "    trackid_include = np.setdiff1d(np.arange(25, 61), trackid_exclude)\n",
    "    for nidx_d in range(0, trackid_include.shape[0]):\n",
    "        if use_pcadata:\n",
    "            vehicle_data_filename_tmp = \"{:s}/train_single{:s}_{:d}_highd_{:d}.npy\".\\\n",
    "            format(directory2load, txt_pca, int(alpha * 10), trackid_include[nidx_d])\n",
    "        else:\n",
    "            vehicle_data_filename_tmp = \"{:s}/train_single_highd_{:d}.npy\".\\\n",
    "            format(directory2load, trackid_include[nidx_d])\n",
    "\n",
    "        filename2read.append(vehicle_data_filename_tmp)\n",
    "        sample_ratio_data += [0.75]\n",
    "else:\n",
    "    pass\n",
    "\n",
    "use_x_sp, use_y_sp = False, False\n",
    "num_train, num_test = 5000, 3000\n",
    "h_prev_d, h_post_d = 1, 1\n",
    "dim_p = 2\n",
    "\n",
    "mode_f = 1\n",
    "if mode_f == 1:\n",
    "    idx_f_use = [6, 7, 8, 9, 10, 11]\n",
    "elif mode_f == 2:\n",
    "    idx_f_use = [3, 6, 7, 8, 9, 10, 11]\n",
    "elif mode_f == 3:\n",
    "    idx_f_use = [3, 6, 7, 8, 9, 10, 11, 18]\n",
    "elif mode_f == 4:\n",
    "    idx_f_use = [3, 6, 7, 8, 9, 10, 11, 20]\n",
    "elif mode_f == 5:\n",
    "    idx_f_use = [3, 6, 7, 8, 9, 10, 11, 18, 20]\n",
    "else:\n",
    "    idx_f_use = [6, 7, 8, 9, 10, 11]\n",
    "    \n",
    "dis_f = False\n",
    "dim_f = len(idx_f_use)\n",
    "\n",
    "idx_r_use = [0, 1, 2, 4, 5]\n",
    "dim_r = len(idx_r_use)\n",
    "    \n",
    "traindata = TrainData(filename2read, sample_ratio_data, 0, 0, num_train, num_test, h_prev_d, h_post_d, \n",
    "                      dim_p, idx_f_use, idx_r_use, 1, use_x_sp=use_x_sp, use_y_sp=use_y_sp, dis_f=dis_f, \n",
    "                      load_multi=False)\n",
    "traindata.processing()\n",
    "\n",
    "# Set train-data & test-data\n",
    "f_gpr = np.copy(traindata.f_train_n)\n",
    "# r_gpr = np.copy(traindata.r_train_n)\n",
    "r_gpr = np.copy(traindata.r_train)\n",
    "r_gpr = np.reshape(r_gpr, (-1, dim_r))\n",
    "\n",
    "f_gpr_test = np.copy(traindata.f_test_n)\n",
    "r_gpr_test = np.copy(traindata.r_test)\n",
    "r_gpr_test = np.reshape(r_gpr_test, (-1, dim_r))\n",
    "\n",
    "f_mean, f_std = traindata.f_train_mean, traindata.f_train_std\n",
    "r_mean, r_std = traindata.r_train_mean, traindata.r_train_std\n",
    "\n",
    "# Set model-name\n",
    "if use_pcadata:\n",
    "    model_name = \"gpr_{:s}_f{:d}r{:d}{:s}_{:d}_{:d}\".\\\n",
    "        format(data_name, mode_f, dim_r, txt_pca, int(alpha*10), num_train)\n",
    "else:\n",
    "    model_name = \"gpr_{:s}_f{:d}r{:d}_{:d}\".\\\n",
    "        format(data_name,mode_f, dim_r, num_train)\n",
    "\n",
    "print(\"[MODEL] {:s}\".format(model_name))\n",
    "print(\"[SET DATA] train-size: {:d}, test-size: {:d}\".format(traindata.n_traindata, traindata.n_testdata))"
   ]
  },
  {
   "cell_type": "markdown",
   "metadata": {},
   "source": [
    "### Step 2: Learn GPR"
   ]
  },
  {
   "cell_type": "code",
   "execution_count": 3,
   "metadata": {},
   "outputs": [
    {
     "name": "stdout",
     "output_type": "stream",
     "text": [
      "[TRAIN GPR-0]\n",
      "[TRAIN GPR-1]\n",
      "[TRAIN GPR-2]\n",
      "[TRAIN GPR-3]\n",
      "[TRAIN GPR-4]\n"
     ]
    }
   ],
   "source": [
    "kernel = ConstantKernel(1.0) * RBF(length_scale=1.0) + WhiteKernel()\n",
    "\n",
    "gpr = []\n",
    "for nidx_d in range(0, dim_r):\n",
    "    r_gpr_sel = r_gpr[:, nidx_d]\n",
    "    r_gpr_sel = np.reshape(r_gpr_sel, (-1, 1))\n",
    "\n",
    "    # Instantiate a Gaussian Process model\n",
    "    gpr_tmp = GaussianProcessRegressor(kernel=kernel)\n",
    "\n",
    "    # Fit to data using Maximum Likelihood Estimation of the parameters (for each dim)\n",
    "    gpr_tmp.fit(f_gpr, r_gpr_sel)\n",
    "    gpr.append(gpr_tmp)\n",
    "    \n",
    "    print(\"[TRAIN GPR-{:d}]\".format(nidx_d))"
   ]
  },
  {
   "cell_type": "markdown",
   "metadata": {},
   "source": [
    "### Step 3: Show Error Histogram"
   ]
  },
  {
   "cell_type": "code",
   "execution_count": 4,
   "metadata": {},
   "outputs": [],
   "source": [
    "# Make the prediction on the meshed x-axis (ask for MSE as well)\n",
    "r_gpr_pred = np.zeros((f_gpr_test.shape[0], dim_r), dtype=np.float32)\n",
    "r_gpr_pred_std = np.zeros((f_gpr_test.shape[0], dim_r), dtype=np.float32)\n",
    "for nidx_d in range(0, dim_r):\n",
    "    gpr_sel = gpr[nidx_d]\n",
    "    r_gpr_pred_tmp, r_gpr_pred_std_tmp = gpr_sel.predict(f_gpr_test, return_std=True)\n",
    "    r_gpr_pred[:, nidx_d] = r_gpr_pred_tmp.reshape(-1)\n",
    "    r_gpr_pred_std[:, nidx_d] = r_gpr_pred_std_tmp.reshape(-1)"
   ]
  },
  {
   "cell_type": "code",
   "execution_count": 5,
   "metadata": {},
   "outputs": [
    {
     "data": {
      "image/png": "[encoded data removed]",
      "text/plain": [
       "<Figure size 1100x1260 with 6 Axes>"
      ]
     },
     "metadata": {
      "needs_background": "light"
     },
     "output_type": "display_data"
    }
   ],
   "source": [
    "import matplotlib.pyplot as plt\n",
    "from matplotlib import colors\n",
    "%matplotlib inline\n",
    "\n",
    "diff_r_test = r_gpr_pred - r_gpr_test\n",
    "diff_abs = np.abs(diff_r_test)\n",
    "\n",
    "plot_col = 2\n",
    "plot_row = math.ceil(dim_r / plot_col)\n",
    "fig1, axs1 = plt.subplots(plot_row, plot_col, figsize=(5.5, plot_row * 2.1), dpi=200, tight_layout=True)\n",
    "\n",
    "for nidx_d in range(0, dim_r):\n",
    "    idx_row = math.floor(nidx_d / 2)\n",
    "    idx_col = nidx_d - idx_row * 2\n",
    "    \n",
    "    diff_abs_0 = diff_abs[:, nidx_d]\n",
    "    N0, bins0, patches0 = axs1[idx_row, idx_col].hist(diff_abs_0, bins=20)\n",
    "    fracs_hist0 = N0 / N0.max()\n",
    "    norm0 = colors.Normalize(fracs_hist0.min(), fracs_hist0.max())\n",
    "    for thisfrac0, thispatch0 in zip(fracs_hist0, patches0):\n",
    "        color0 = plt.cm.viridis(norm0(thisfrac0))\n",
    "        thispatch0.set_facecolor(color0)\n",
    "    axs1[idx_row, idx_col].set_title('error r'+str(nidx_d))\n",
    "\n",
    "axs1[-1, -1].axis('off')\n",
    "    \n",
    "plt.show()\n",
    "\n",
    "filename2save_pic = \"{:s}/{:s}.png\".format(directory2save, model_name)\n",
    "fig1.savefig(filename2save_pic, dpi=300)"
   ]
  },
  {
   "cell_type": "markdown",
   "metadata": {},
   "source": [
    "### Step 4: Save Result"
   ]
  },
  {
   "cell_type": "code",
   "execution_count": 6,
   "metadata": {},
   "outputs": [
    {
     "name": "stdout",
     "output_type": "stream",
     "text": [
      "SAVED-./trained_model/gpr/p_gpr_us101_f1r5_pcax_3_5000\n",
      "SAVED-./trained_model/gpr/gpr_us101_f1r5_pcax_3_5000_0.pkl\n",
      "SAVED-./trained_model/gpr/gpr_us101_f1r5_pcax_3_5000_1.pkl\n",
      "SAVED-./trained_model/gpr/gpr_us101_f1r5_pcax_3_5000_2.pkl\n",
      "SAVED-./trained_model/gpr/gpr_us101_f1r5_pcax_3_5000_3.pkl\n",
      "SAVED-./trained_model/gpr/gpr_us101_f1r5_pcax_3_5000_4.pkl\n"
     ]
    }
   ],
   "source": [
    "data2save = {'idx_f_use': idx_f_use, 'idx_r_use': idx_r_use, 'dis_f': dis_f, \n",
    "             'f_mean': f_mean, 'f_std': f_std, 'r_mean': r_mean, 'r_std': r_std,\n",
    "             'f_gpr': f_gpr, 'r_gpr': r_gpr}\n",
    "\n",
    "filename2save0 = \"{:s}/p_{:s}\".format(directory2save, model_name)\n",
    "np.save(filename2save0, data2save)\n",
    "print(\"SAVED-{:s}\".format(filename2save0))\n",
    "\n",
    "for nidx_d in range(0, dim_r):\n",
    "    filename2save1 = \"{:s}/{:s}_{:d}.pkl\".format(directory2save, model_name, nidx_d)\n",
    "    with open(filename2save1, 'wb') as file:\n",
    "        pickle.dump(gpr[nidx_d], file)\n",
    "    print(\"SAVED-{:s}\".format(filename2save1))"
   ]
  }
 ],
 "metadata": {
  "kernelspec": {
   "display_name": "dev_tf",
   "language": "python",
   "name": "dev_tf"
  },
  "language_info": {
   "codemirror_mode": {
    "name": "ipython",
    "version": 3
   },
   "file_extension": ".py",
   "mimetype": "text/x-python",
   "name": "python",
   "nbconvert_exporter": "python",
   "pygments_lexer": "ipython3",
   "version": "3.6.9"
  }
 },
 "nbformat": 4,
 "nbformat_minor": 4
}
